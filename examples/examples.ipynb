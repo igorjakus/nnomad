{
 "cells": [
  {
   "cell_type": "code",
   "execution_count": 2,
   "id": "81e08573-9ca3-475b-8e1b-cf3341e4a57f",
   "metadata": {
    "vscode": {
     "languageId": "ocaml"
    }
   },
   "outputs": [],
   "source": [
    "#require \"nomad\";;\n",
    "\n",
    "open Nomad.Expr\n",
    "open Nomad.Simplify\n",
    "open Nomad.Eval\n",
    "open Nomad.Derivatives\n",
    "open Nomad.Gradient_descent\n",
    "open Nomad.Newton\n",
    "open Nomad.Bisection"
   ]
  },
  {
   "cell_type": "code",
   "execution_count": 5,
   "id": "d5b3915b",
   "metadata": {
    "vscode": {
     "languageId": "ocaml"
    }
   },
   "outputs": [
    {
     "data": {
      "text/plain": [
       "- : string = \"81. * cos(0.25 * pi + 3. * x)\"\n"
      ]
     },
     "execution_count": 5,
     "metadata": {},
     "output_type": "execute_result"
    }
   ],
   "source": [
    "(* Zadanie z AN - lista 13 zad. 3 *)\n",
    "let e = Cos ((Float 3. *: Var \"x\") +: (Var \"pi\" /: Float 4.)) in\n",
    "let e' = nth_derivative e \"x\" 4 in\n",
    "string_of_expr e';;"
   ]
  },
  {
   "cell_type": "code",
   "execution_count": 7,
   "id": "a8589526",
   "metadata": {
    "vscode": {
     "languageId": "ocaml"
    }
   },
   "outputs": [
    {
     "data": {
      "text/plain": [
       "val e : Nomad.Expr.expr =\n",
       "  Sum\n",
       "   [Product [Product [Float 1.; Var \"y\"]; Var \"y\"];\n",
       "    Product [Product [Float 2.; Var \"y\"]; Float 2.]]\n"
      ]
     },
     "execution_count": 7,
     "metadata": {},
     "output_type": "execute_result"
    },
    {
     "data": {
      "text/plain": [
       "- : string = \"4. * y + y^2.\"\n"
      ]
     },
     "execution_count": 7,
     "metadata": {},
     "output_type": "execute_result"
    }
   ],
   "source": [
    "let e = (Float 1. *: Var \"y\" *: Var \"y\") +: (Float 2. *: Var \"y\" *: Float 2.);;\n",
    "\n",
    "simplify e |> string_of_expr;;"
   ]
  },
  {
   "cell_type": "code",
   "execution_count": 9,
   "id": "f00cda28",
   "metadata": {
    "vscode": {
     "languageId": "ocaml"
    }
   },
   "outputs": [
    {
     "data": {
      "text/plain": [
       "val e : Nomad.Expr.expr = Product [Product [Float 2.; Var \"y\"]; Float 2.]\n"
      ]
     },
     "execution_count": 9,
     "metadata": {},
     "output_type": "execute_result"
    },
    {
     "data": {
      "text/plain": [
       "- : string = \"4. * y\"\n"
      ]
     },
     "execution_count": 9,
     "metadata": {},
     "output_type": "execute_result"
    }
   ],
   "source": [
    "let e = Float 2. *: Var \"y\" *: Float 2.;;\n",
    "\n",
    "e |> collect |> string_of_expr;;"
   ]
  },
  {
   "cell_type": "code",
   "execution_count": 10,
   "id": "283f81dd",
   "metadata": {
    "vscode": {
     "languageId": "ocaml"
    }
   },
   "outputs": [
    {
     "data": {
      "text/plain": [
       "- : string = \"6. * x^2. * y^2.\"\n"
      ]
     },
     "execution_count": 10,
     "metadata": {},
     "output_type": "execute_result"
    }
   ],
   "source": [
    "let e = Product ([Float 1.; Var \"y\"; Float 2.; Var \"x\"; Float 3.;  Var \"x\"; Var \"y\"]) in \n",
    "\n",
    "simplify e |> string_of_expr;;"
   ]
  },
  {
   "cell_type": "code",
   "execution_count": 12,
   "id": "bd8c2843",
   "metadata": {
    "vscode": {
     "languageId": "ocaml"
    }
   },
   "outputs": [
    {
     "data": {
      "text/plain": [
       "val e : Nomad.Expr.expr =\n",
       "  Product [Product [Float 3.; Var \"z\"]; Pow (Var \"z\", Float (-1.))]\n"
      ]
     },
     "execution_count": 12,
     "metadata": {},
     "output_type": "execute_result"
    },
    {
     "data": {
      "text/plain": [
       "- : string = \"3.\"\n"
      ]
     },
     "execution_count": 12,
     "metadata": {},
     "output_type": "execute_result"
    }
   ],
   "source": [
    "let e = Float 3. *: Var \"z\" /: Var \"z\";;\n",
    "\n",
    "simplify e |> string_of_expr;;"
   ]
  },
  {
   "cell_type": "code",
   "execution_count": 4,
   "id": "758fac77",
   "metadata": {
    "vscode": {
     "languageId": "ocaml"
    }
   },
   "outputs": [
    {
     "data": {
      "text/plain": [
       "val black_scholes_example : unit -> unit = <fun>\n"
      ]
     },
     "execution_count": 4,
     "metadata": {},
     "output_type": "execute_result"
    },
    {
     "name": "stdout",
     "output_type": "stream",
     "text": [
      "Black-Scholes Option Delta:\n",
      "0.01 / 0.01 * S / 0.2 * t^0.5 + -1. / 0.2 * t^0.5 * 0.2 * 0.5 / t * (0.07 * t + log(0.01 * S))\n",
      "Value at S=100, t=1:\n",
      "-0.125\n"
     ]
    }
   ],
   "source": [
    "(* Financial Mathematics - Black-Scholes Option Pricing *)\n",
    "let black_scholes_example () =\n",
    "  let s = Var \"S\" in        (* Stock price *)\n",
    "  let k = Float 100.0 in    (* Strike price *)\n",
    "  let r = Float 0.05 in     (* Risk-free rate *)\n",
    "  let t = Var \"t\" in        (* Time to expiration *)\n",
    "  let sigma = Float 0.2 in  (* Volatility *)\n",
    "  \n",
    "  (* Call option price formula (simplified) *)\n",
    "  let d1 = (Log(s /: k) +: (r +: (sigma ^: Float 2.) /: Float 2.) *: t) /: \n",
    "           (sigma *: Pow(t, Float 0.5)) in\n",
    "  \n",
    "  let derivative = derivative d1 \"S\" |> simplify in\n",
    "  \n",
    "  print_endline \"Black-Scholes Option Delta:\";\n",
    "  print_endline (string_of_expr derivative);\n",
    "  print_endline \"Value at S=100, t=1:\";\n",
    "  print_endline (string_of_float (eval [(\"S\", 100.0); (\"t\", 1.0)] derivative))\n",
    "\n",
    "  \n",
    "let () = black_scholes_example ()"
   ]
  },
  {
   "cell_type": "code",
   "execution_count": 5,
   "id": "1b9c389b",
   "metadata": {
    "vscode": {
     "languageId": "ocaml"
    }
   },
   "outputs": [
    {
     "ename": "error",
     "evalue": "compile_error",
     "output_type": "error",
     "traceback": [
      "File \"[5]\", line 4, characters 15-18:\n4 |   let relu x = Max(x, Float 0.) in\n                   ^^^\nError: Unbound constructor Max\n"
     ]
    }
   ],
   "source": [
    "(* Machine Learning - Neural Network Analysis *)\n",
    "let neural_network_example () =\n",
    "  (* ReLU activation function and its derivative *)\n",
    "  let relu x = Max(x, Float 0.) in\n",
    "  let x = Var \"x\" in\n",
    "  let hidden_layer = [relu (x *: Float 2.); relu (x *: Float (-1.) +: Float 1.)] in\n",
    "  let output = List.fold_left (+:) (Float 0.) hidden_layer in\n",
    "  \n",
    "  let gradient = derivative output \"x\" |> simplify in\n",
    "  \n",
    "  print_endline \"Neural Network with ReLU Activation:\";\n",
    "  print_endline (\"f(x) = \" ^ latex_of_expr output);\n",
    "  print_endline (\"f'(x) = \" ^ latex_of_expr gradient)"
   ]
  },
  {
   "cell_type": "code",
   "execution_count": 36,
   "id": "7e05986f",
   "metadata": {
    "vscode": {
     "languageId": "ocaml"
    }
   },
   "outputs": [
    {
     "ename": "error",
     "evalue": "compile_error",
     "output_type": "error",
     "traceback": [
      "File \"[36]\", line 21, characters 31-34:\n21 |   | Error msg -> print_endline msg\n                                    ^^^\nError: This expression has type Nomad.Optimization_types.optim_error\n       but an expression was expected of type string\n"
     ]
    }
   ],
   "source": [
    "(* Physics - Projectile Motion with Air Resistance *)\n",
    "let projectile_motion_example () =\n",
    "  let t = Var \"t\" in\n",
    "  let v0 = Float 50.0 in  (* Initial velocity *)\n",
    "  let theta = Float (3.14 /. 4.) in  (* Launch angle *)\n",
    "  let g = Float 9.81 in\n",
    "  let k = Float 0.1 in  (* Air resistance coefficient *)\n",
    "  \n",
    "  (* Position equations *)\n",
    "  let x = v0 *: Cos(theta) *: t -: (k /: Float 2.) *: Pow(t, Float 2.) in\n",
    "  let y = v0 *: Sin(theta) *: t -: (g /: Float 2.) *: Pow(t, Float 2.) in\n",
    "  \n",
    "  print_endline \"Projectile Motion Equations:\";\n",
    "  print_endline (\"x(t) = \" ^ latex_of_expr x);\n",
    "  print_endline (\"y(t) = \" ^ latex_of_expr y);\n",
    "  \n",
    "  (* Find time of landing *)\n",
    "  let eq = (y, Float 0.) in\n",
    "  match solve_newton eq ~initial_guess:5.0 ~max_iter:100 with\n",
    "  | Ok t_land -> print_endline (\"Landing time: \" ^ string_of_float t_land)\n",
    "  | Error msg -> print_endline msg"
   ]
  },
  {
   "cell_type": "code",
   "execution_count": 37,
   "id": "e29217c6",
   "metadata": {
    "vscode": {
     "languageId": "ocaml"
    }
   },
   "outputs": [
    {
     "ename": "error",
     "evalue": "compile_error",
     "output_type": "error",
     "traceback": [
      "File \"[37]\", line 4, characters 6-7:\n4 |   let L = Float 10.0 in  (* Beam length *)\n          ^\nError: This variant pattern is expected to have type Nomad.Expr.expr\n       There is no constructor L within type Nomad.Expr.expr\n"
     ]
    }
   ],
   "source": [
    "(* Engineering - Beam Deflection Analysis *)\n",
    "let beam_deflection_example () =\n",
    "  let x = Var \"x\" in\n",
    "  let L = Float 10.0 in  (* Beam length *)\n",
    "  let EI = Float 2000.0 in  (* Flexural rigidity *)\n",
    "  let w = Float 1.0 in  (* Distributed load *)\n",
    "  \n",
    "  (* Beam deflection equation *)\n",
    "  let deflection = (w *: Pow(x, Float 4.)) /: (Float 24. *: EI) -:\n",
    "                   (w *: L *: Pow(x, Float 3.)) /: (Float 12. *: EI) in\n",
    "  \n",
    "  let max_deflection = derivative deflection \"x\" |> simplify in\n",
    "  \n",
    "  print_endline \"Beam Deflection Analysis:\";\n",
    "  print_endline (\"y(x) = \" ^ latex_of_expr deflection);\n",
    "  print_endline \"Maximum deflection occurs at:\";\n",
    "  \n",
    "  (* Find point of maximum deflection *)\n",
    "  let eq = (max_deflection, Float 0.) in\n",
    "  match solve_newton eq ~initial_guess:5.0 ~max_iter:100 with\n",
    "  | Ok x_max -> print_endline (\"x = \" ^ string_of_float x_max)\n",
    "  | Error msg -> print_endline msg"
   ]
  },
  {
   "cell_type": "code",
   "execution_count": 38,
   "id": "5a3c2511",
   "metadata": {
    "vscode": {
     "languageId": "ocaml"
    }
   },
   "outputs": [
    {
     "ename": "error",
     "evalue": "compile_error",
     "output_type": "error",
     "traceback": [
      "File \"[38]\", line 7, characters 2-24:\n7 |   neural_network_example ();\n      ^^^^^^^^^^^^^^^^^^^^^^\nError: Unbound value neural_network_example\n"
     ]
    }
   ],
   "source": [
    "(* Run examples *)\n",
    "let () =\n",
    "  print_endline \"\\n=== Financial Mathematics ===\\n\";\n",
    "  black_scholes_example ();\n",
    "  \n",
    "  print_endline \"\\n=== Machine Learning ===\\n\";\n",
    "  neural_network_example ();\n",
    "  \n",
    "  print_endline \"\\n=== Physics ===\\n\";\n",
    "  projectile_motion_example ();\n",
    "  \n",
    "  print_endline \"\\n=== Engineering ===\\n\";\n",
    "  beam_deflection_example ()"
   ]
  },
  {
   "cell_type": "code",
   "execution_count": 27,
   "id": "37e02fa0",
   "metadata": {
    "vscode": {
     "languageId": "ocaml"
    }
   },
   "outputs": [
    {
     "name": "stdout",
     "output_type": "stream",
     "text": [
      "Neural Network Activation Function\n",
      "==================================\n",
      "Original sigmoid: 1. / (1. + exp(-1. * x))\n",
      "Derivative: (0. - -1. * exp(-1. * x)) / ((exp(-1. * x) + 1.) * (exp(-1. * x) + 1.))\n",
      "LaTeX: \\frac{0. - -1. \\cdot e^{-1. \\cdot x}}{(e^{-1. \\cdot x} + 1.) \\cdot (e^{-1. \\cdot x} + 1.)}\n",
      "\n"
     ]
    },
    {
     "data": {
      "text/plain": [
       "- : unit = ()\n"
      ]
     },
     "execution_count": 27,
     "metadata": {},
     "output_type": "execute_result"
    }
   ],
   "source": [
    "(* Example 1: Neural Network Activation Function Analysis *)\n",
    "let sigmoid x = Div(Float 1., Float 1. +: Exp(Float (-1.) *: x)) in\n",
    "let x = Var \"x\" in\n",
    "let expr = sigmoid x in\n",
    "let derivative_expr = derivative expr \"x\" |> simplify in\n",
    "\n",
    "make_output \"Neural Network Activation Function\" (\n",
    "  \"Original sigmoid: \" ^ string_of_expr expr ^ \"\\n\" ^\n",
    "  \"Derivative: \" ^ string_of_expr derivative_expr ^ \"\\n\" ^\n",
    "  \"LaTeX: \" ^ latex_of_expr derivative_expr\n",
    ") |> print_endline;;\n",
    "\n"
   ]
  }
 ],
 "metadata": {
  "kernelspec": {
   "display_name": "OCaml default",
   "language": "OCaml",
   "name": "ocaml-jupyter"
  },
  "language_info": {
   "codemirror_mode": "text/x-ocaml",
   "file_extension": ".ml",
   "mimetype": "text/x-ocaml",
   "name": "OCaml",
   "nbconverter_exporter": null,
   "pygments_lexer": "OCaml",
   "version": "4.14.2"
  }
 },
 "nbformat": 4,
 "nbformat_minor": 5
}
