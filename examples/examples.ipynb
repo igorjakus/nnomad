{
 "cells": [
  {
   "cell_type": "code",
   "execution_count": 1,
   "id": "81e08573-9ca3-475b-8e1b-cf3341e4a57f",
   "metadata": {
    "vscode": {
     "languageId": "ocaml"
    }
   },
   "outputs": [
    {
     "data": {
      "text/plain": [
       "val x : Nomad.Expr.expr = Var \"x\"\n"
      ]
     },
     "execution_count": 1,
     "metadata": {},
     "output_type": "execute_result"
    },
    {
     "data": {
      "text/plain": [
       "val y : Nomad.Expr.expr = Var \"y\"\n"
      ]
     },
     "execution_count": 1,
     "metadata": {},
     "output_type": "execute_result"
    },
    {
     "data": {
      "text/plain": [
       "val z : Nomad.Expr.expr = Var \"z\"\n"
      ]
     },
     "execution_count": 1,
     "metadata": {},
     "output_type": "execute_result"
    }
   ],
   "source": [
    "#require \"nomad\";;\n",
    "open Nomad\n",
    "open Nomad.Expr\n",
    "open Nomad.Simplify\n",
    "open Nomad.Eval\n",
    "open Nomad.Derivatives\n",
    "open Nomad.Gradient_descent\n",
    "open Nomad.Newton\n",
    "open Nomad.Bisection\n",
    "\n",
    "let x = Var \"x\"\n",
    "let y = Var \"y\"\n",
    "let z = Var \"z\""
   ]
  },
  {
   "cell_type": "markdown",
   "id": "cfb0860c",
   "metadata": {},
   "source": [
    "# Basic symbolic computations"
   ]
  },
  {
   "cell_type": "code",
   "execution_count": 2,
   "id": "7ce4ae70",
   "metadata": {
    "vscode": {
     "languageId": "ocaml"
    }
   },
   "outputs": [
    {
     "data": {
      "text/plain": [
       "val f : Nomad.Expr.expr =\n",
       "  Sum [Pow (Var \"x\", Float 2.); Pow (Var \"y\", Float 3.)]\n"
      ]
     },
     "execution_count": 2,
     "metadata": {},
     "output_type": "execute_result"
    },
    {
     "data": {
      "text/plain": [
       "val env : Nomad.Eval.env = [(\"x\", 1.); (\"y\", 2.)]\n"
      ]
     },
     "execution_count": 2,
     "metadata": {},
     "output_type": "execute_result"
    },
    {
     "data": {
      "text/plain": [
       "- : float = 9.\n"
      ]
     },
     "execution_count": 2,
     "metadata": {},
     "output_type": "execute_result"
    }
   ],
   "source": [
    "let f = (x ^: Float 2.) +: (y ^: Float 3.);;\n",
    "let env: env = [(\"x\", 1.); (\"y\", 2.)];;\n",
    "eval env f;;"
   ]
  },
  {
   "cell_type": "code",
   "execution_count": 3,
   "id": "889d6e74",
   "metadata": {
    "vscode": {
     "languageId": "ocaml"
    }
   },
   "outputs": [
    {
     "data": {
      "text/plain": [
       "- : string = \"2 * x\"\n"
      ]
     },
     "execution_count": 3,
     "metadata": {},
     "output_type": "execute_result"
    },
    {
     "data": {
      "text/plain": [
       "- : string = \"3 * y^2\"\n"
      ]
     },
     "execution_count": 3,
     "metadata": {},
     "output_type": "execute_result"
    },
    {
     "data": {
      "text/plain": [
       "- : string = \"6 * y\"\n"
      ]
     },
     "execution_count": 3,
     "metadata": {},
     "output_type": "execute_result"
    },
    {
     "data": {
      "text/plain": [
       "- : string = \"6\"\n"
      ]
     },
     "execution_count": 3,
     "metadata": {},
     "output_type": "execute_result"
    },
    {
     "data": {
      "text/plain": [
       "- : string = \"0\"\n"
      ]
     },
     "execution_count": 3,
     "metadata": {},
     "output_type": "execute_result"
    }
   ],
   "source": [
    "derivative \"x\" f |> string_of_expr;;\n",
    "derivative \"y\" f |> string_of_expr;;\n",
    "\n",
    "nth_derivative \"y\" 2 f |> string_of_expr;;\n",
    "nth_derivative \"y\" 3 f |> string_of_expr;;\n",
    "nth_derivative \"y\" 4 f |> string_of_expr;;"
   ]
  },
  {
   "cell_type": "code",
   "execution_count": 5,
   "id": "ab5bbab1",
   "metadata": {
    "vscode": {
     "languageId": "ocaml"
    }
   },
   "outputs": [
    {
     "data": {
      "text/plain": [
       "val f : Nomad.Expr.expr = Pow (Var \"x\", Float (-1.))\n"
      ]
     },
     "execution_count": 5,
     "metadata": {},
     "output_type": "execute_result"
    },
    {
     "data": {
      "text/plain": [
       "- : string = \"x^{-1}\"\n"
      ]
     },
     "execution_count": 5,
     "metadata": {},
     "output_type": "execute_result"
    },
    {
     "data": {
      "text/plain": [
       "- : string = \"-1 * x^{-2}\"\n"
      ]
     },
     "execution_count": 5,
     "metadata": {},
     "output_type": "execute_result"
    },
    {
     "data": {
      "text/plain": [
       "- : string = \"2 * x^{-3}\"\n"
      ]
     },
     "execution_count": 5,
     "metadata": {},
     "output_type": "execute_result"
    },
    {
     "data": {
      "text/plain": [
       "- : string = \"-6 * x^{-4}\"\n"
      ]
     },
     "execution_count": 5,
     "metadata": {},
     "output_type": "execute_result"
    },
    {
     "data": {
      "text/plain": [
       "- : string = \"24 * x^{-5}\"\n"
      ]
     },
     "execution_count": 5,
     "metadata": {},
     "output_type": "execute_result"
    }
   ],
   "source": [
    "let f = x ^: Float (-.1.);;\n",
    "f |> string_of_expr;;\n",
    "\n",
    "nth_derivative \"x\" 1 f |> string_of_expr;;\n",
    "nth_derivative \"x\" 2 f |> string_of_expr;;\n",
    "nth_derivative \"x\" 3 f |> string_of_expr;;\n",
    "nth_derivative \"x\" 4 f |> string_of_expr;;"
   ]
  },
  {
   "cell_type": "code",
   "execution_count": 6,
   "id": "c2e2b2fc",
   "metadata": {
    "vscode": {
     "languageId": "ocaml"
    }
   },
   "outputs": [
    {
     "data": {
      "text/plain": [
       "- : string = \"81 * cos(0.785398163397 + 3 * x)\"\n"
      ]
     },
     "execution_count": 6,
     "metadata": {},
     "output_type": "execute_result"
    }
   ],
   "source": [
    "(* Zadanie z AN - lista 13 zad. 3 *)\n",
    "let e = Cos ((Float 3. *: x) +: (pi /: Float 4.)) in\n",
    "let e' = nth_derivative \"x\" 4 e in\n",
    "string_of_expr e';;"
   ]
  },
  {
   "cell_type": "markdown",
   "id": "5f4915a3",
   "metadata": {},
   "source": [
    "# Simplify"
   ]
  },
  {
   "cell_type": "code",
   "execution_count": 7,
   "id": "2dc798e4",
   "metadata": {
    "vscode": {
     "languageId": "ocaml"
    }
   },
   "outputs": [
    {
     "data": {
      "text/plain": [
       "val f : Nomad.Expr.expr =\n",
       "  Sum\n",
       "   [Sum [Sum [Sum [Neg (Var \"x\"); Neg (Var \"y\")]; Var \"z\"]; Var \"x\"];\n",
       "    Var \"y\"]\n"
      ]
     },
     "execution_count": 7,
     "metadata": {},
     "output_type": "execute_result"
    }
   ],
   "source": [
    "let f = Neg(x) +: Neg(y) +: z +: x +: y;;\n",
    "(* kinda ugly AST *)"
   ]
  },
  {
   "cell_type": "code",
   "execution_count": 8,
   "id": "9fa4acc2",
   "metadata": {
    "vscode": {
     "languageId": "ocaml"
    }
   },
   "outputs": [
    {
     "data": {
      "text/plain": [
       "- : Nomad.Expr.expr = Var \"z\"\n"
      ]
     },
     "execution_count": 8,
     "metadata": {},
     "output_type": "execute_result"
    }
   ],
   "source": [
    "simplify f\n",
    "(* now beautiful *)"
   ]
  },
  {
   "cell_type": "markdown",
   "id": "fe0bff6e",
   "metadata": {},
   "source": [
    "## Jak to się dzieje?\n",
    "1. Pokaż AST\n",
    "2. Pokaż simplify z sympy\n",
    "3. Pokaż simplify mojego +/-\n",
    "\n",
    "TODO: tralalalalal"
   ]
  },
  {
   "cell_type": "code",
   "execution_count": 18,
   "id": "cc325382",
   "metadata": {
    "vscode": {
     "languageId": "ocaml"
    }
   },
   "outputs": [
    {
     "data": {
      "text/plain": [
       "val g : Nomad.Expr.expr = Sum [Sum [Var \"x\"; Var \"y\"]; Var \"z\"]\n"
      ]
     },
     "execution_count": 18,
     "metadata": {},
     "output_type": "execute_result"
    },
    {
     "data": {
      "text/plain": [
       "val f : Nomad.Expr.expr =\n",
       "  Sum\n",
       "   [Product\n",
       "     [Sin (Sum [Sum [Var \"x\"; Var \"y\"]; Var \"z\"]);\n",
       "      Sin (Sum [Sum [Var \"x\"; Var \"y\"]; Var \"z\"])];\n",
       "    Product\n",
       "     [Cos (Sum [Sum [Var \"x\"; Var \"y\"]; Var \"z\"]);\n",
       "      Cos (Sum [Sum [Var \"x\"; Var \"y\"]; Var \"z\"])]]\n"
      ]
     },
     "execution_count": 18,
     "metadata": {},
     "output_type": "execute_result"
    },
    {
     "data": {
      "text/plain": [
       "- : Nomad.Expr.expr = Float 1.\n"
      ]
     },
     "execution_count": 18,
     "metadata": {},
     "output_type": "execute_result"
    }
   ],
   "source": [
    "let g = x +: y +: z;;\n",
    "let f = (Sin(g) *: Sin(g)) +: (Cos(g) *: Cos(g));; (* sin(g)^2 + cos(g)^2 *)\n",
    "\n",
    "simplify f;;"
   ]
  },
  {
   "cell_type": "code",
   "execution_count": 24,
   "id": "8f3f0d4b",
   "metadata": {
    "vscode": {
     "languageId": "ocaml"
    }
   },
   "outputs": [
    {
     "data": {
      "text/plain": [
       "val f : Nomad.Expr.expr =\n",
       "  Sum\n",
       "   [Product\n",
       "     [Product [Pow (Var \"x\", Float 3.); Pow (Var \"x\", Float 39.)];\n",
       "      Pow (Var \"x\", Float 0.42)];\n",
       "    Product\n",
       "     [Pow (Var \"y\", Float 1.23);\n",
       "      Pow (Pow (Var \"y\", Float 0.23), Float (-1.))]]\n"
      ]
     },
     "execution_count": 24,
     "metadata": {},
     "output_type": "execute_result"
    },
    {
     "data": {
      "text/plain": [
       "val s : Nomad.Expr.expr = Sum [Pow (Var \"x\", Float 42.42); Var \"y\"]\n"
      ]
     },
     "execution_count": 24,
     "metadata": {},
     "output_type": "execute_result"
    },
    {
     "data": {
      "text/plain": [
       "- : string = \"x^42.42 + y\"\n"
      ]
     },
     "execution_count": 24,
     "metadata": {},
     "output_type": "execute_result"
    }
   ],
   "source": [
    "let f = ((x ^: Float 3.) *: (x ^: Float 39.) *: (x ^: Float 0.42)) +: (y ^: Float 1.23) /: (y ^: Float 0.23);;\n",
    "let s = simplify f;;\n",
    "s |> string_of_expr;;"
   ]
  },
  {
   "cell_type": "code",
   "execution_count": 35,
   "id": "4e87070c",
   "metadata": {
    "vscode": {
     "languageId": "ocaml"
    }
   },
   "outputs": [
    {
     "data": {
      "text/plain": [
       "val f : Nomad.Expr.expr = Exp (Float 1.)\n"
      ]
     },
     "execution_count": 35,
     "metadata": {},
     "output_type": "execute_result"
    },
    {
     "data": {
      "text/plain": [
       "- : string = \"e\"\n"
      ]
     },
     "execution_count": 35,
     "metadata": {},
     "output_type": "execute_result"
    },
    {
     "data": {
      "text/plain": [
       "val f : Nomad.Expr.expr = Float 3.14159265358979312\n"
      ]
     },
     "execution_count": 35,
     "metadata": {},
     "output_type": "execute_result"
    },
    {
     "data": {
      "text/plain": [
       "- : string = \"π\"\n"
      ]
     },
     "execution_count": 35,
     "metadata": {},
     "output_type": "execute_result"
    },
    {
     "data": {
      "text/plain": [
       "val f : Nomad.Expr.expr = Pow (Exp (Var \"x\"), Float 2.)\n"
      ]
     },
     "execution_count": 35,
     "metadata": {},
     "output_type": "execute_result"
    },
    {
     "data": {
      "text/plain": [
       "- : string = \"exp(2. * x)\"\n"
      ]
     },
     "execution_count": 35,
     "metadata": {},
     "output_type": "execute_result"
    }
   ],
   "source": [
    "let f = Exp(Float 1.);;\n",
    "f |> simplify |> string_of_expr;;\n",
    "\n",
    "let f = Float 3.14159265358979323846;; (* FIXME: *)\n",
    "f |> string_of_expr;;\n",
    "\n",
    "let f = Exp(x) ^: Float 2.;;\n",
    "f |> simplify |> string_of_expr;;"
   ]
  },
  {
   "cell_type": "markdown",
   "id": "9557c9d4",
   "metadata": {},
   "source": [
    "# Numerical Optimization"
   ]
  },
  {
   "cell_type": "markdown",
   "id": "457a4542",
   "metadata": {},
   "source": [
    "### Newton"
   ]
  },
  {
   "cell_type": "code",
   "execution_count": 45,
   "id": "de6b880f",
   "metadata": {
    "vscode": {
     "languageId": "ocaml"
    }
   },
   "outputs": [
    {
     "data": {
      "text/plain": [
       "val eq : Nomad.Expr.equation = (Var \"x\", Float 2.)\n"
      ]
     },
     "execution_count": 45,
     "metadata": {},
     "output_type": "execute_result"
    },
    {
     "data": {
      "text/plain": [
       "- : (float, Nomad.Optimization_types.optim_error) result = Ok 2.\n"
      ]
     },
     "execution_count": 45,
     "metadata": {},
     "output_type": "execute_result"
    }
   ],
   "source": [
    "let eq: equation = (x, Float 2.);;\n",
    "solve_newton eq ~initial_guess:0.1 ~max_iter:10;;"
   ]
  },
  {
   "cell_type": "code",
   "execution_count": 46,
   "id": "4b7d54a3",
   "metadata": {
    "vscode": {
     "languageId": "ocaml"
    }
   },
   "outputs": [
    {
     "data": {
      "text/plain": [
       "val eq : Nomad.Expr.equation = (Product [Var \"x\"; Var \"x\"], Float 2.)\n"
      ]
     },
     "execution_count": 46,
     "metadata": {},
     "output_type": "execute_result"
    },
    {
     "data": {
      "text/plain": [
       "- : (float, Nomad.Optimization_types.optim_error) result =\n",
       "Ok 1.41421360011580322\n"
      ]
     },
     "execution_count": 46,
     "metadata": {},
     "output_type": "execute_result"
    }
   ],
   "source": [
    "let eq: equation = (x *: x, Float 2.);;\n",
    "solve_newton eq ~initial_guess:0.1 ~max_iter:10;;"
   ]
  },
  {
   "cell_type": "code",
   "execution_count": 62,
   "id": "7da83582",
   "metadata": {
    "vscode": {
     "languageId": "ocaml"
    }
   },
   "outputs": [
    {
     "data": {
      "text/plain": [
       "val eq : Nomad.Expr.equation = (Sin (Var \"x\"), Cos (Var \"x\"))\n"
      ]
     },
     "execution_count": 62,
     "metadata": {},
     "output_type": "execute_result"
    },
    {
     "data": {
      "text/plain": [
       "- : (float, Nomad.Optimization_types.optim_error) result =\n",
       "Ok 0.785398175999701853\n"
      ]
     },
     "execution_count": 62,
     "metadata": {},
     "output_type": "execute_result"
    }
   ],
   "source": [
    "let eq: equation = (Sin(x), Cos(x));;\n",
    "solve_newton eq ~initial_guess:0. ~max_iter:10;;"
   ]
  },
  {
   "cell_type": "code",
   "execution_count": 79,
   "id": "e583119a",
   "metadata": {
    "vscode": {
     "languageId": "ocaml"
    }
   },
   "outputs": [
    {
     "data": {
      "text/plain": [
       "val eq : Nomad.Expr.equation = (Pow (Var \"x\", Float 3.), Float 8.)\n"
      ]
     },
     "execution_count": 79,
     "metadata": {},
     "output_type": "execute_result"
    },
    {
     "data": {
      "text/plain": [
       "- : (float, Nomad.Optimization_types.optim_error) result =\n",
       "Ok 2.00000000000348122\n"
      ]
     },
     "execution_count": 79,
     "metadata": {},
     "output_type": "execute_result"
    }
   ],
   "source": [
    "let eq: equation = (x ^: Float 3., Float 8.);;\n",
    "solve_newton eq ~initial_guess:0.1 ~max_iter:20;;"
   ]
  },
  {
   "cell_type": "code",
   "execution_count": 94,
   "id": "ab572ca5",
   "metadata": {
    "vscode": {
     "languageId": "ocaml"
    }
   },
   "outputs": [
    {
     "data": {
      "text/plain": [
       "val eq : Nomad.Expr.equation = (Log (Var \"x\"), Float 1.)\n"
      ]
     },
     "execution_count": 94,
     "metadata": {},
     "output_type": "execute_result"
    },
    {
     "data": {
      "text/plain": [
       "- : (float, Nomad.Optimization_types.optim_error) result =\n",
       "Ok 2.71828177920980218\n"
      ]
     },
     "execution_count": 94,
     "metadata": {},
     "output_type": "execute_result"
    }
   ],
   "source": [
    "let eq: equation = (Log(x), Float 1.);;\n",
    "solve_newton eq ~initial_guess:0.1 ~max_iter:20;;"
   ]
  },
  {
   "cell_type": "code",
   "execution_count": 117,
   "id": "08319d22",
   "metadata": {
    "vscode": {
     "languageId": "ocaml"
    }
   },
   "outputs": [
    {
     "data": {
      "text/plain": [
       "val eq : Nomad.Expr.equation =\n",
       "  (Product\n",
       "    [Pow (Var \"x\", Float 2.); Pow (Pow (Var \"y\", Float 1.5), Float (-1.))],\n",
       "   Float 18.)\n"
      ]
     },
     "execution_count": 117,
     "metadata": {},
     "output_type": "execute_result"
    },
    {
     "data": {
      "text/plain": [
       "- : (Nomad.Eval.env, Nomad.Optimization_types.optim_error) result =\n",
       "Ok [(\"x\", 2.0471383398778249); (\"y\", 0.378455295124827507)]\n"
      ]
     },
     "execution_count": 117,
     "metadata": {},
     "output_type": "execute_result"
    },
    {
     "data": {
      "text/plain": [
       "val f : float -> float -> float = <fun>\n"
      ]
     },
     "execution_count": 117,
     "metadata": {},
     "output_type": "execute_result"
    },
    {
     "data": {
      "text/plain": [
       "- : float = 18.0000210571891195\n"
      ]
     },
     "execution_count": 117,
     "metadata": {},
     "output_type": "execute_result"
    }
   ],
   "source": [
    "let eq: equation = ((x^:Float 2.) /: (y ^: Float 1.5), Float 18.);;\n",
    "solve_newton_multivar eq ~initial_guess:[\"x\", 2.; \"y\", 0.5] ~max_iter:100;;\n",
    "\n",
    "let f x y = (x *. x) /. (Float.pow y 1.5);;\n",
    "f 2.04713834 0.378455;;"
   ]
  },
  {
   "cell_type": "markdown",
   "id": "b379d6c8",
   "metadata": {
    "vscode": {
     "languageId": "ocaml"
    }
   },
   "source": [
    "### Bisekcja"
   ]
  },
  {
   "cell_type": "code",
   "execution_count": 121,
   "id": "e9952659",
   "metadata": {
    "vscode": {
     "languageId": "ocaml"
    }
   },
   "outputs": [
    {
     "data": {
      "text/plain": [
       "val eq : Nomad.Expr.equation = (Pow (Var \"x\", Float 2.), Float 2.)\n"
      ]
     },
     "execution_count": 121,
     "metadata": {},
     "output_type": "execute_result"
    },
    {
     "data": {
      "text/plain": [
       "- : (float, Nomad.Optimization_types.optim_error) result =\n",
       "Ok 1.41421365737915039\n"
      ]
     },
     "execution_count": 121,
     "metadata": {},
     "output_type": "execute_result"
    }
   ],
   "source": [
    "(* val solve_bisection :\n",
    "  Expr.equation ->\n",
    "  a:float ->\n",
    "  b:float ->\n",
    "  tolerance:float ->\n",
    "  max_iter:int ->\n",
    "  (float, optim_error) result *)\n",
    "\n",
    "let eq: equation = (x ^: Float 2., Float 2.);;\n",
    "solve_bisection eq ~a:0. ~b:2. ~tolerance:0.000001 ~max_iter:100;;;;\n"
   ]
  },
  {
   "cell_type": "markdown",
   "id": "e5922b1e",
   "metadata": {},
   "source": [
    "### Gradient descent"
   ]
  },
  {
   "cell_type": "code",
   "execution_count": 139,
   "id": "35d30c84",
   "metadata": {
    "vscode": {
     "languageId": "ocaml"
    }
   },
   "outputs": [
    {
     "data": {
      "text/plain": [
       "val eq : Nomad.Expr.equation = (Sum [Var \"x\"; Var \"y\"], Float 2.)\n"
      ]
     },
     "execution_count": 139,
     "metadata": {},
     "output_type": "execute_result"
    },
    {
     "data": {
      "text/plain": [
       "val initial_guess : Nomad.Eval.env = [(\"x\", -1.); (\"y\", -2.)]\n"
      ]
     },
     "execution_count": 139,
     "metadata": {},
     "output_type": "execute_result"
    },
    {
     "data": {
      "text/plain": [
       "- : (Nomad.Eval.env, Nomad.Optimization_types.optim_error) result =\n",
       "Ok [(\"x\", 1.50000000000000044); (\"y\", 0.499999999999999445)]\n"
      ]
     },
     "execution_count": 139,
     "metadata": {},
     "output_type": "execute_result"
    }
   ],
   "source": [
    "(* val solve_gradient_descent :\n",
    "  Expr.equation ->\n",
    "  initial_guess:Eval.env ->\n",
    "  learning_rate:float ->\n",
    "  max_iter:int ->\n",
    "  (Eval.env, optim_error) result *)\n",
    "\n",
    "let eq: equation = (x +: y, Float 2.);;\n",
    "let initial_guess: env = [(\"x\", -1.); (\"y\", -2.)];;\n",
    "solve_gradient_descent eq ~initial_guess ~learning_rate:0.1 ~max_iter:100;"
   ]
  },
  {
   "cell_type": "code",
   "execution_count": 140,
   "id": "b68ded9a",
   "metadata": {
    "vscode": {
     "languageId": "ocaml"
    }
   },
   "outputs": [
    {
     "data": {
      "text/plain": [
       "val eq : Nomad.Expr.equation =\n",
       "  (Sum\n",
       "    [Sum [Product [Var \"x\"; Var \"y\"]; Product [Var \"x\"; Var \"x\"]];\n",
       "     Product [Var \"y\"; Var \"y\"]],\n",
       "   Float 8.)\n"
      ]
     },
     "execution_count": 140,
     "metadata": {},
     "output_type": "execute_result"
    },
    {
     "data": {
      "text/plain": [
       "val initial_guess : Nomad.Eval.env = [(\"x\", 1.); (\"y\", 0.)]\n"
      ]
     },
     "execution_count": 140,
     "metadata": {},
     "output_type": "execute_result"
    },
    {
     "data": {
      "text/plain": [
       "- : (Nomad.Eval.env, Nomad.Optimization_types.optim_error) result =\n",
       "Ok [(\"x\", 2.33242880429706068); (\"y\", 0.813642134235871)]\n"
      ]
     },
     "execution_count": 140,
     "metadata": {},
     "output_type": "execute_result"
    },
    {
     "data": {
      "text/plain": [
       "val f : float -> float -> float = <fun>\n"
      ]
     },
     "execution_count": 140,
     "metadata": {},
     "output_type": "execute_result"
    },
    {
     "data": {
      "text/plain": [
       "- : float = 7.99994331479999943\n"
      ]
     },
     "execution_count": 140,
     "metadata": {},
     "output_type": "execute_result"
    }
   ],
   "source": [
    "let eq: equation = ((x *: y) +: (x *: x) +: (y *: y), Float 8.);;\n",
    "let initial_guess: env = [(\"x\", 1.); (\"y\", 0.)];;\n",
    "solve_gradient_descent eq ~initial_guess ~learning_rate:0.01 ~max_iter:100;;\n",
    "\n",
    "let f x y = (x *. y) +. (x *. x) +. (y *. y);;\n",
    "f 2.33242 0.81364;;"
   ]
  },
  {
   "cell_type": "markdown",
   "id": "72e3fecf",
   "metadata": {},
   "source": [
    "# Reszta"
   ]
  },
  {
   "cell_type": "code",
   "execution_count": 89,
   "id": "aa0b7a0e",
   "metadata": {
    "vscode": {
     "languageId": "ocaml"
    }
   },
   "outputs": [
    {
     "data": {
      "text/plain": [
       "- : Nomad.Expr.expr =\n",
       "Product [Var \"y\"; Pow (Var \"x\", Float (-1.)); Pow (Var \"y\", Float (-1.))]\n"
      ]
     },
     "execution_count": 89,
     "metadata": {},
     "output_type": "execute_result"
    }
   ],
   "source": [
    "derivative \"x\" (Log(x *: y)) |> simplify;; (* FIXME: *)"
   ]
  },
  {
   "cell_type": "code",
   "execution_count": null,
   "id": "e6361f34",
   "metadata": {
    "vscode": {
     "languageId": "ocaml"
    }
   },
   "outputs": [
    {
     "data": {
      "text/plain": [
       "- : Nomad.Expr.expr =\n",
       "Product\n",
       " [Var \"x\"; Pow (Var \"y\", Float 2.);\n",
       "  Pow (Product [Var \"x\"; Var \"y\"], Float (-1.))]\n"
      ]
     },
     "execution_count": 8,
     "metadata": {},
     "output_type": "execute_result"
    }
   ],
   "source": [
    "let e1 = (x *: (y ^: Float 2.)) in\n",
    "let e2 = (y *: x) in\n",
    "\n",
    "simplify (e1 /: e2) (* TODO: rozdzielac *)"
   ]
  },
  {
   "cell_type": "code",
   "execution_count": 7,
   "id": "a8589526",
   "metadata": {
    "vscode": {
     "languageId": "ocaml"
    }
   },
   "outputs": [
    {
     "data": {
      "text/plain": [
       "val e : Nomad.Expr.expr =\n",
       "  Sum\n",
       "   [Product [Product [Float 1.; Var \"y\"]; Var \"y\"];\n",
       "    Product [Product [Float 2.; Var \"y\"]; Float 2.]]\n"
      ]
     },
     "execution_count": 7,
     "metadata": {},
     "output_type": "execute_result"
    },
    {
     "data": {
      "text/plain": [
       "- : string = \"4. * y + y^2.\"\n"
      ]
     },
     "execution_count": 7,
     "metadata": {},
     "output_type": "execute_result"
    }
   ],
   "source": [
    "let e = (Float 1. *: y *: y) +: (Float 2. *: y *: Float 2.);;\n",
    "\n",
    "simplify e |> string_of_expr;;"
   ]
  },
  {
   "cell_type": "code",
   "execution_count": 7,
   "id": "90875462",
   "metadata": {
    "vscode": {
     "languageId": "ocaml"
    }
   },
   "outputs": [
    {
     "data": {
      "text/plain": [
       "- : Nomad.Expr.expr =\n",
       "Product [Pow (Var \"x\", Float 3.); Pow (Pow (Var \"x\", Float 2.), Float (-1.))]\n"
      ]
     },
     "execution_count": 7,
     "metadata": {},
     "output_type": "execute_result"
    }
   ],
   "source": [
    "let e = (Var \"x\" ^: Float 3.) in\n",
    "let e2 = (Var \"x\" ^: Float 2.) in\n",
    "simplify (e /: e2) (* (x^a)^b = x^ab *)"
   ]
  },
  {
   "cell_type": "code",
   "execution_count": 9,
   "id": "f00cda28",
   "metadata": {
    "vscode": {
     "languageId": "ocaml"
    }
   },
   "outputs": [
    {
     "data": {
      "text/plain": [
       "val e : Nomad.Expr.expr = Product [Product [Float 2.; Var \"y\"]; Float 2.]\n"
      ]
     },
     "execution_count": 9,
     "metadata": {},
     "output_type": "execute_result"
    },
    {
     "data": {
      "text/plain": [
       "- : string = \"4. * y\"\n"
      ]
     },
     "execution_count": 9,
     "metadata": {},
     "output_type": "execute_result"
    }
   ],
   "source": [
    "let e = Float 2. *: Var \"y\" *: Float 2.;;\n",
    "\n",
    "e |> collect |> string_of_expr;;"
   ]
  },
  {
   "cell_type": "code",
   "execution_count": 10,
   "id": "283f81dd",
   "metadata": {
    "vscode": {
     "languageId": "ocaml"
    }
   },
   "outputs": [
    {
     "data": {
      "text/plain": [
       "- : string = \"6. * x^2. * y^2.\"\n"
      ]
     },
     "execution_count": 10,
     "metadata": {},
     "output_type": "execute_result"
    }
   ],
   "source": [
    "let e = Product ([Float 1.; Var \"y\"; Float 2.; Var \"x\"; Float 3.;  Var \"x\"; Var \"y\"]) in \n",
    "\n",
    "simplify e |> string_of_expr;;"
   ]
  },
  {
   "cell_type": "code",
   "execution_count": 12,
   "id": "bd8c2843",
   "metadata": {
    "vscode": {
     "languageId": "ocaml"
    }
   },
   "outputs": [
    {
     "data": {
      "text/plain": [
       "val e : Nomad.Expr.expr =\n",
       "  Product [Product [Float 3.; Var \"z\"]; Pow (Var \"z\", Float (-1.))]\n"
      ]
     },
     "execution_count": 12,
     "metadata": {},
     "output_type": "execute_result"
    },
    {
     "data": {
      "text/plain": [
       "- : string = \"3.\"\n"
      ]
     },
     "execution_count": 12,
     "metadata": {},
     "output_type": "execute_result"
    }
   ],
   "source": [
    "let e = Float 3. *: Var \"z\" /: Var \"z\";;\n",
    "\n",
    "simplify e |> string_of_expr;;"
   ]
  },
  {
   "cell_type": "code",
   "execution_count": 4,
   "id": "758fac77",
   "metadata": {
    "vscode": {
     "languageId": "ocaml"
    }
   },
   "outputs": [
    {
     "data": {
      "text/plain": [
       "val black_scholes_example : unit -> unit = <fun>\n"
      ]
     },
     "execution_count": 4,
     "metadata": {},
     "output_type": "execute_result"
    },
    {
     "name": "stdout",
     "output_type": "stream",
     "text": [
      "Black-Scholes Option Delta:\n",
      "0.01 / 0.01 * S / 0.2 * t^0.5 + -1. / 0.2 * t^0.5 * 0.2 * 0.5 / t * (0.07 * t + log(0.01 * S))\n",
      "Value at S=100, t=1:\n",
      "-0.125\n"
     ]
    }
   ],
   "source": [
    "(* Financial Mathematics - Black-Scholes Option Pricing *)\n",
    "let black_scholes_example () =\n",
    "  let s = Var \"S\" in        (* Stock price *)\n",
    "  let k = Float 100.0 in    (* Strike price *)\n",
    "  let r = Float 0.05 in     (* Risk-free rate *)\n",
    "  let t = Var \"t\" in        (* Time to expiration *)\n",
    "  let sigma = Float 0.2 in  (* Volatility *)\n",
    "  \n",
    "  (* Call option price formula (simplified) *)\n",
    "  let d1 = (Log(s /: k) +: (r +: (sigma ^: Float 2.) /: Float 2.) *: t) /: \n",
    "           (sigma *: Pow(t, Float 0.5)) in\n",
    "  \n",
    "  let derivative = derivative d1 \"S\" |> simplify in\n",
    "  \n",
    "  print_endline \"Black-Scholes Option Delta:\";\n",
    "  print_endline (string_of_expr derivative);\n",
    "  print_endline \"Value at S=100, t=1:\";\n",
    "  print_endline (string_of_float (eval [(\"S\", 100.0); (\"t\", 1.0)] derivative))\n",
    "\n",
    "  \n",
    "let () = black_scholes_example ()"
   ]
  },
  {
   "cell_type": "code",
   "execution_count": 5,
   "id": "1b9c389b",
   "metadata": {
    "vscode": {
     "languageId": "ocaml"
    }
   },
   "outputs": [
    {
     "ename": "error",
     "evalue": "compile_error",
     "output_type": "error",
     "traceback": [
      "File \"[5]\", line 4, characters 15-18:\n4 |   let relu x = Max(x, Float 0.) in\n                   ^^^\nError: Unbound constructor Max\n"
     ]
    }
   ],
   "source": [
    "(* Machine Learning - Neural Network Analysis *)\n",
    "let neural_network_example () =\n",
    "  (* ReLU activation function and its derivative *)\n",
    "  let relu x = Max(x, Float 0.) in\n",
    "  let x = Var \"x\" in\n",
    "  let hidden_layer = [relu (x *: Float 2.); relu (x *: Float (-1.) +: Float 1.)] in\n",
    "  let output = List.fold_left (+:) (Float 0.) hidden_layer in\n",
    "  \n",
    "  let gradient = derivative output \"x\" |> simplify in\n",
    "  \n",
    "  print_endline \"Neural Network with ReLU Activation:\";\n",
    "  print_endline (\"f(x) = \" ^ latex_of_expr output);\n",
    "  print_endline (\"f'(x) = \" ^ latex_of_expr gradient)"
   ]
  },
  {
   "cell_type": "code",
   "execution_count": 36,
   "id": "7e05986f",
   "metadata": {
    "vscode": {
     "languageId": "ocaml"
    }
   },
   "outputs": [
    {
     "ename": "error",
     "evalue": "compile_error",
     "output_type": "error",
     "traceback": [
      "File \"[36]\", line 21, characters 31-34:\n21 |   | Error msg -> print_endline msg\n                                    ^^^\nError: This expression has type Nomad.Optimization_types.optim_error\n       but an expression was expected of type string\n"
     ]
    }
   ],
   "source": [
    "(* Physics - Projectile Motion with Air Resistance *)\n",
    "let projectile_motion_example () =\n",
    "  let t = Var \"t\" in\n",
    "  let v0 = Float 50.0 in  (* Initial velocity *)\n",
    "  let theta = Float (3.14 /. 4.) in  (* Launch angle *)\n",
    "  let g = Float 9.81 in\n",
    "  let k = Float 0.1 in  (* Air resistance coefficient *)\n",
    "  \n",
    "  (* Position equations *)\n",
    "  let x = v0 *: Cos(theta) *: t -: (k /: Float 2.) *: Pow(t, Float 2.) in\n",
    "  let y = v0 *: Sin(theta) *: t -: (g /: Float 2.) *: Pow(t, Float 2.) in\n",
    "  \n",
    "  print_endline \"Projectile Motion Equations:\";\n",
    "  print_endline (\"x(t) = \" ^ latex_of_expr x);\n",
    "  print_endline (\"y(t) = \" ^ latex_of_expr y);\n",
    "  \n",
    "  (* Find time of landing *)\n",
    "  let eq = (y, Float 0.) in\n",
    "  match solve_newton eq ~initial_guess:5.0 ~max_iter:100 with\n",
    "  | Ok t_land -> print_endline (\"Landing time: \" ^ string_of_float t_land)\n",
    "  | Error msg -> print_endline msg"
   ]
  },
  {
   "cell_type": "code",
   "execution_count": 37,
   "id": "e29217c6",
   "metadata": {
    "vscode": {
     "languageId": "ocaml"
    }
   },
   "outputs": [
    {
     "ename": "error",
     "evalue": "compile_error",
     "output_type": "error",
     "traceback": [
      "File \"[37]\", line 4, characters 6-7:\n4 |   let L = Float 10.0 in  (* Beam length *)\n          ^\nError: This variant pattern is expected to have type Nomad.Expr.expr\n       There is no constructor L within type Nomad.Expr.expr\n"
     ]
    }
   ],
   "source": [
    "(* Engineering - Beam Deflection Analysis *)\n",
    "let beam_deflection_example () =\n",
    "  let x = Var \"x\" in\n",
    "  let L = Float 10.0 in  (* Beam length *)\n",
    "  let EI = Float 2000.0 in  (* Flexural rigidity *)\n",
    "  let w = Float 1.0 in  (* Distributed load *)\n",
    "  \n",
    "  (* Beam deflection equation *)\n",
    "  let deflection = (w *: Pow(x, Float 4.)) /: (Float 24. *: EI) -:\n",
    "                   (w *: L *: Pow(x, Float 3.)) /: (Float 12. *: EI) in\n",
    "  \n",
    "  let max_deflection = derivative deflection \"x\" |> simplify in\n",
    "  \n",
    "  print_endline \"Beam Deflection Analysis:\";\n",
    "  print_endline (\"y(x) = \" ^ latex_of_expr deflection);\n",
    "  print_endline \"Maximum deflection occurs at:\";\n",
    "  \n",
    "  (* Find point of maximum deflection *)\n",
    "  let eq = (max_deflection, Float 0.) in\n",
    "  match solve_newton eq ~initial_guess:5.0 ~max_iter:100 with\n",
    "  | Ok x_max -> print_endline (\"x = \" ^ string_of_float x_max)\n",
    "  | Error msg -> print_endline msg"
   ]
  },
  {
   "cell_type": "code",
   "execution_count": 38,
   "id": "5a3c2511",
   "metadata": {
    "vscode": {
     "languageId": "ocaml"
    }
   },
   "outputs": [
    {
     "ename": "error",
     "evalue": "compile_error",
     "output_type": "error",
     "traceback": [
      "File \"[38]\", line 7, characters 2-24:\n7 |   neural_network_example ();\n      ^^^^^^^^^^^^^^^^^^^^^^\nError: Unbound value neural_network_example\n"
     ]
    }
   ],
   "source": [
    "(* Run examples *)\n",
    "let () =\n",
    "  print_endline \"\\n=== Financial Mathematics ===\\n\";\n",
    "  black_scholes_example ();\n",
    "  \n",
    "  print_endline \"\\n=== Machine Learning ===\\n\";\n",
    "  neural_network_example ();\n",
    "  \n",
    "  print_endline \"\\n=== Physics ===\\n\";\n",
    "  projectile_motion_example ();\n",
    "  \n",
    "  print_endline \"\\n=== Engineering ===\\n\";\n",
    "  beam_deflection_example ()"
   ]
  },
  {
   "cell_type": "code",
   "execution_count": 27,
   "id": "37e02fa0",
   "metadata": {
    "vscode": {
     "languageId": "ocaml"
    }
   },
   "outputs": [
    {
     "name": "stdout",
     "output_type": "stream",
     "text": [
      "Neural Network Activation Function\n",
      "==================================\n",
      "Original sigmoid: 1. / (1. + exp(-1. * x))\n",
      "Derivative: (0. - -1. * exp(-1. * x)) / ((exp(-1. * x) + 1.) * (exp(-1. * x) + 1.))\n",
      "LaTeX: \\frac{0. - -1. \\cdot e^{-1. \\cdot x}}{(e^{-1. \\cdot x} + 1.) \\cdot (e^{-1. \\cdot x} + 1.)}\n",
      "\n"
     ]
    },
    {
     "data": {
      "text/plain": [
       "- : unit = ()\n"
      ]
     },
     "execution_count": 27,
     "metadata": {},
     "output_type": "execute_result"
    }
   ],
   "source": [
    "(* Example 1: Neural Network Activation Function Analysis *)\n",
    "let sigmoid x = Div(Float 1., Float 1. +: Exp(Float (-1.) *: x)) in\n",
    "let x = Var \"x\" in\n",
    "let expr = sigmoid x in\n",
    "let derivative_expr = derivative expr \"x\" |> simplify in\n",
    "\n",
    "make_output \"Neural Network Activation Function\" (\n",
    "  \"Original sigmoid: \" ^ string_of_expr expr ^ \"\\n\" ^\n",
    "  \"Derivative: \" ^ string_of_expr derivative_expr ^ \"\\n\" ^\n",
    "  \"LaTeX: \" ^ latex_of_expr derivative_expr\n",
    ") |> print_endline;;\n",
    "\n"
   ]
  }
 ],
 "metadata": {
  "kernelspec": {
   "display_name": "OCaml default",
   "language": "OCaml",
   "name": "ocaml-jupyter"
  },
  "language_info": {
   "codemirror_mode": "text/x-ocaml",
   "file_extension": ".ml",
   "mimetype": "text/x-ocaml",
   "name": "OCaml",
   "nbconverter_exporter": null,
   "pygments_lexer": "OCaml",
   "version": "4.14.2"
  }
 },
 "nbformat": 4,
 "nbformat_minor": 5
}
